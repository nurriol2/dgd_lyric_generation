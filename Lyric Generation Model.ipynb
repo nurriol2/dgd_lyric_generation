{
 "cells": [
  {
   "cell_type": "markdown",
   "metadata": {},
   "source": [
    "# Lyric Generation with Recurrent Nerual Network #\n",
    "## Generating Dance Gavin Dance lyrics with machine learning ##\n",
    "\n",
    "The starting point for this project is the official [TensorFlow Tutorial - Text generation with an RNN](https://www.tensorflow.org/tutorials/text/text_generation). Since I am interested in generating song lyrics (instead of Shakespearean sonnets) I'm using a dataset of Dance Gavin Dance song lyrics that I scraped from the web. The web scraping program I wrote and the data itself, are [on my project repo](https://github.com/nurriol2/dgd_lyric_generation). \n",
    "\n",
    "Some great ideas for improving the model are given in [Jason Brownlee's post on text generation](https://machinelearningmastery.com/text-generation-lstm-recurrent-neural-networks-python-keras/). I implemented a few of these suggestions throughout this notebook.\n",
    "\n",
    "I intend for this noteboook **to run on [Google Colab](https://colab.research.google.com/)**.  \n",
    "\n",
    "Here are several resasons I chose Google Colab:\n",
    "1. Even with only a few epochs, my laptop cannot train a model quickly\n",
    "2. Google Colab does not require any installations (Python or otherwise) to get started programming\n",
    "3. The errors I had running the same code with AWS and Spell, simply, do not exist when using Google Colab  \n",
    "\n",
    "If you have a powerful GPU or would like to try running this code on your own machine or somewhere besides Google Colab, everything is available on the project repo - including a `requirements.txt` file. If you do use a different platform to explore this project, I would love to hear about it! "
   ]
  },
  {
   "cell_type": "code",
   "execution_count": 3,
   "metadata": {},
   "outputs": [],
   "source": [
    "import tensorflow as tf\n",
    "import numpy as np\n",
    "import os\n",
    "import time\n",
    "import base64\n",
    "import requests"
   ]
  },
  {
   "cell_type": "code",
   "execution_count": 4,
   "metadata": {},
   "outputs": [
    {
     "name": "stdout",
     "output_type": "stream",
     "text": [
      "[Verse 1: Tilian & Jon Mess]\n",
      "Do you crave a greater reason to exist?\n",
      "Have you always known that symmetry is bliss?\n",
      "We know you see the pattern\n",
      "Lay in your lap, think of your path\n",
      "Philosophy don't bother me, come back when you're trash\n",
      "You are welcome\n"
     ]
    }
   ],
   "source": [
    "filename = \"https://raw.githubusercontent.com/nurriol2/dgd_lyric_generation/ft-rnn/dance_gavin_dance_lyrics.txt\"\n",
    "req = requests.get(filename).text\n",
    "print(req[:250])"
   ]
  },
  {
   "cell_type": "code",
   "execution_count": null,
   "metadata": {},
   "outputs": [],
   "source": []
  }
 ],
 "metadata": {
  "kernelspec": {
   "display_name": "Python 3",
   "language": "python",
   "name": "python3"
  },
  "language_info": {
   "codemirror_mode": {
    "name": "ipython",
    "version": 3
   },
   "file_extension": ".py",
   "mimetype": "text/x-python",
   "name": "python",
   "nbconvert_exporter": "python",
   "pygments_lexer": "ipython3",
   "version": "3.6.4"
  }
 },
 "nbformat": 4,
 "nbformat_minor": 2
}
